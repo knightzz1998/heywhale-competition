{
 "cells": [
  {
   "cell_type": "code",
   "execution_count": 2,
   "metadata": {
    "jupyter": {},
    "tags": [],
    "slideshow": {
     "slide_type": "slide"
    },
    "id": "67222FB6440C4F3CAE347A5A6BCD1317",
    "trusted": true
   },
   "outputs": [],
   "source": [
    "import pandas as pd\n",
    "import lightgbm as lgb\n",
    "import jieba\n",
    "import numpy as np\n",
    "from sklearn.model_selection import StratifiedKFold\n",
    "from sklearn.feature_extraction.text import TfidfVectorizer\n"
   ]
  },
  {
   "cell_type": "markdown",
   "metadata": {
    "jupyter": {},
    "tags": [],
    "slideshow": {
     "slide_type": "slide"
    },
    "id": "0CC4354CA19D47F0978342FDFC9470B2",
    "trusted": true
   },
   "source": [
    "## 加载数据集"
   ]
  },
  {
   "cell_type": "code",
   "execution_count": 3,
   "metadata": {
    "jupyter": {},
    "tags": [],
    "slideshow": {
     "slide_type": "slide"
    },
    "id": "B2C07D96849B457F899BB79D446771A0",
    "trusted": true
   },
   "outputs": [],
   "source": [
    "train=pd.read_csv('data/train.csv')\n",
    "test=pd.read_csv('data/test.csv')"
   ]
  },
  {
   "cell_type": "code",
   "execution_count": 4,
   "metadata": {
    "jupyter": {},
    "tags": [],
    "slideshow": {
     "slide_type": "slide"
    },
    "id": "4958065B2CAF49C78167E73CBE7F56D2",
    "trusted": true
   },
   "outputs": [
    {
     "data": {
      "text/html": [
       "<div>\n",
       "<style scoped>\n",
       "    .dataframe tbody tr th:only-of-type {\n",
       "        vertical-align: middle;\n",
       "    }\n",
       "\n",
       "    .dataframe tbody tr th {\n",
       "        vertical-align: top;\n",
       "    }\n",
       "\n",
       "    .dataframe thead th {\n",
       "        text-align: right;\n",
       "    }\n",
       "</style>\n",
       "<table border=\"1\" class=\"dataframe\">\n",
       "  <thead>\n",
       "    <tr style=\"text-align: right;\">\n",
       "      <th></th>\n",
       "      <th>tweet_id</th>\n",
       "      <th>content</th>\n",
       "      <th>label</th>\n",
       "    </tr>\n",
       "  </thead>\n",
       "  <tbody>\n",
       "    <tr>\n",
       "      <th>0</th>\n",
       "      <td>tweet_0</td>\n",
       "      <td>@tiffanylue i know  i was listenin to bad habi...</td>\n",
       "      <td>0</td>\n",
       "    </tr>\n",
       "    <tr>\n",
       "      <th>1</th>\n",
       "      <td>tweet_1</td>\n",
       "      <td>Layin n bed with a headache  ughhhh...waitin o...</td>\n",
       "      <td>1</td>\n",
       "    </tr>\n",
       "    <tr>\n",
       "      <th>2</th>\n",
       "      <td>tweet_2</td>\n",
       "      <td>Funeral ceremony...gloomy friday...</td>\n",
       "      <td>1</td>\n",
       "    </tr>\n",
       "    <tr>\n",
       "      <th>3</th>\n",
       "      <td>tweet_3</td>\n",
       "      <td>wants to hang out with friends SOON!</td>\n",
       "      <td>2</td>\n",
       "    </tr>\n",
       "    <tr>\n",
       "      <th>4</th>\n",
       "      <td>tweet_4</td>\n",
       "      <td>@dannycastillo We want to trade with someone w...</td>\n",
       "      <td>3</td>\n",
       "    </tr>\n",
       "  </tbody>\n",
       "</table>\n",
       "</div>"
      ],
      "text/plain": [
       "  tweet_id                                            content  label\n",
       "0  tweet_0  @tiffanylue i know  i was listenin to bad habi...      0\n",
       "1  tweet_1  Layin n bed with a headache  ughhhh...waitin o...      1\n",
       "2  tweet_2                Funeral ceremony...gloomy friday...      1\n",
       "3  tweet_3               wants to hang out with friends SOON!      2\n",
       "4  tweet_4  @dannycastillo We want to trade with someone w...      3"
      ]
     },
     "execution_count": 4,
     "metadata": {},
     "output_type": "execute_result"
    }
   ],
   "source": "train.head()"
  },
  {
   "cell_type": "code",
   "execution_count": 5,
   "metadata": {
    "jupyter": {},
    "tags": [],
    "slideshow": {
     "slide_type": "slide"
    },
    "id": "972DD9CB90E8471283E08E5C4E07D204",
    "trusted": true
   },
   "outputs": [
    {
     "data": {
      "text/html": [
       "<div>\n",
       "<style scoped>\n",
       "    .dataframe tbody tr th:only-of-type {\n",
       "        vertical-align: middle;\n",
       "    }\n",
       "\n",
       "    .dataframe tbody tr th {\n",
       "        vertical-align: top;\n",
       "    }\n",
       "\n",
       "    .dataframe thead th {\n",
       "        text-align: right;\n",
       "    }\n",
       "</style>\n",
       "<table border=\"1\" class=\"dataframe\">\n",
       "  <thead>\n",
       "    <tr style=\"text-align: right;\">\n",
       "      <th></th>\n",
       "      <th>tweet_id</th>\n",
       "      <th>content</th>\n",
       "    </tr>\n",
       "  </thead>\n",
       "  <tbody>\n",
       "    <tr>\n",
       "      <th>0</th>\n",
       "      <td>tweet_0</td>\n",
       "      <td>Re-pinging @ghostridah14: why didn't you go to...</td>\n",
       "    </tr>\n",
       "    <tr>\n",
       "      <th>1</th>\n",
       "      <td>tweet_1</td>\n",
       "      <td>@kelcouch I'm sorry  at least it's Friday?</td>\n",
       "    </tr>\n",
       "    <tr>\n",
       "      <th>2</th>\n",
       "      <td>tweet_2</td>\n",
       "      <td>The storm is here and the electricity is gone</td>\n",
       "    </tr>\n",
       "    <tr>\n",
       "      <th>3</th>\n",
       "      <td>tweet_3</td>\n",
       "      <td>So sleepy again and it's not even that late. I...</td>\n",
       "    </tr>\n",
       "    <tr>\n",
       "      <th>4</th>\n",
       "      <td>tweet_4</td>\n",
       "      <td>Wondering why I'm awake at 7am,writing a new s...</td>\n",
       "    </tr>\n",
       "  </tbody>\n",
       "</table>\n",
       "</div>"
      ],
      "text/plain": [
       "  tweet_id                                            content\n",
       "0  tweet_0  Re-pinging @ghostridah14: why didn't you go to...\n",
       "1  tweet_1         @kelcouch I'm sorry  at least it's Friday?\n",
       "2  tweet_2      The storm is here and the electricity is gone\n",
       "3  tweet_3  So sleepy again and it's not even that late. I...\n",
       "4  tweet_4  Wondering why I'm awake at 7am,writing a new s..."
      ]
     },
     "execution_count": 5,
     "metadata": {},
     "output_type": "execute_result"
    }
   ],
   "source": "test.head()"
  },
  {
   "cell_type": "code",
   "execution_count": 6,
   "metadata": {
    "jupyter": {},
    "tags": [],
    "slideshow": {
     "slide_type": "slide"
    },
    "id": "479430B7D6064E798E2D6F049794D03C",
    "trusted": true
   },
   "outputs": [],
   "source": "## train"
  },
  {
   "cell_type": "markdown",
   "metadata": {
    "jupyter": {},
    "tags": [],
    "slideshow": {
     "slide_type": "slide"
    },
    "id": "E31D6CCCA6F042EE810249C3E0173B53",
    "trusted": true
   },
   "source": "## 思路1 文本分类\n\n基于文本的分类模型\n\n"
  },
  {
   "cell_type": "code",
   "execution_count": 6,
   "metadata": {
    "jupyter": {},
    "tags": [],
    "slideshow": {
     "slide_type": "slide"
    },
    "id": "9AE1ED594D1047138C093A2E92747566",
    "trusted": true
   },
   "outputs": [],
   "source": "vec = TfidfVectorizer(max_features=80000, ngram_range=(1, 2),\n                              min_df=2, max_df=0.96,\n                              strip_accents='unicode',\n                              norm='l2',\n                              token_pattern=r\"(?u)\\b\\w+\\b\")"
  },
  {
   "cell_type": "code",
   "execution_count": 7,
   "metadata": {
    "jupyter": {},
    "tags": [],
    "slideshow": {
     "slide_type": "slide"
    },
    "id": "BB93626B832C41D785BE21523DD50611",
    "trusted": true
   },
   "outputs": [
    {
     "data": {
      "text/plain": [
       "TfidfVectorizer(max_df=0.96, max_features=80000, min_df=2, ngram_range=(1, 2),\n",
       "                strip_accents='unicode', token_pattern='(?u)\\\\b\\\\w+\\\\b')"
      ]
     },
     "execution_count": 7,
     "metadata": {},
     "output_type": "execute_result"
    }
   ],
   "source": "vec.fit(pd.concat([train['content'],\n                   test['content']],\n                  axis=0))"
  },
  {
   "cell_type": "code",
   "execution_count": 9,
   "metadata": {
    "jupyter": {},
    "tags": [],
    "slideshow": {
     "slide_type": "slide"
    },
    "id": "6B3358A15A7543D996AE075A4E0DF21C",
    "trusted": true
   },
   "outputs": [
    {
     "data": {
      "text/plain": [
       "(30000, 57594)"
      ]
     },
     "execution_count": 9,
     "metadata": {},
     "output_type": "execute_result"
    }
   ],
   "source": "X_train=vec.transform(train['content'])\nX_train.shape"
  },
  {
   "cell_type": "code",
   "execution_count": 11,
   "metadata": {
    "jupyter": {},
    "tags": [],
    "slideshow": {
     "slide_type": "slide"
    },
    "id": "5B9307D7CB94422A99638F4619794E86",
    "trusted": true
   },
   "outputs": [
    {
     "data": {
      "text/plain": [
       "(10000, 57594)"
      ]
     },
     "execution_count": 11,
     "metadata": {},
     "output_type": "execute_result"
    }
   ],
   "source": "X_test=vec.transform(test['content'])\nX_test.shape"
  },
  {
   "cell_type": "code",
   "execution_count": 14,
   "metadata": {
    "jupyter": {},
    "tags": [],
    "slideshow": {
     "slide_type": "slide"
    },
    "id": "063F835B44DB404FBA5A9B83F564FD99",
    "trusted": true
   },
   "outputs": [
    {
     "data": {
      "text/plain": [
       "0        0\n",
       "1        1\n",
       "2        1\n",
       "3        2\n",
       "4        3\n",
       "        ..\n",
       "29995    3\n",
       "29996    3\n",
       "29997    3\n",
       "29998    6\n",
       "29999    9\n",
       "Name: label, Length: 30000, dtype: int64"
      ]
     },
     "execution_count": 14,
     "metadata": {},
     "output_type": "execute_result"
    }
   ],
   "source": "y_train=train['label'].astype(int)\ny_train"
  },
  {
   "cell_type": "markdown",
   "metadata": {
    "jupyter": {},
    "tags": [],
    "slideshow": {
     "slide_type": "slide"
    },
    "id": "E9A57235BEF34654BB87F0D5D1767E38",
    "trusted": true
   },
   "source": "## 训练模型"
  },
  {
   "cell_type": "code",
   "execution_count": 16,
   "metadata": {
    "scrolled": false,
    "jupyter": {},
    "tags": [],
    "slideshow": {
     "slide_type": "slide"
    },
    "id": "5CD643AEDDC847958BF6FD589A1309B7",
    "trusted": true
   },
   "outputs": [
    {
     "name": "stderr",
     "output_type": "stream",
     "text": [
      "/home/edit/anaconda3/lib/python3.8/site-packages/sklearn/model_selection/_split.py:293: FutureWarning: Setting a random_state has no effect since shuffle is False. This will raise an error in 0.24. You should leave random_state to its default (None), or set shuffle=True.\n",
      "  warnings.warn(\n"
     ]
    },
    {
     "name": "stdout",
     "output_type": "stream",
     "text": [
      "fold n°1\n",
      "Training until validation scores don't improve for 100 rounds\n",
      "[100]\ttraining's multi_logloss: 1.68632\tvalid_1's multi_logloss: 2.02506\n",
      "[200]\ttraining's multi_logloss: 1.475\tvalid_1's multi_logloss: 2.01967\n",
      "Early stopping, best iteration is:\n",
      "[159]\ttraining's multi_logloss: 1.55055\tvalid_1's multi_logloss: 2.01871\n",
      "fold n°2\n",
      "Training until validation scores don't improve for 100 rounds\n",
      "[100]\ttraining's multi_logloss: 1.7083\tvalid_1's multi_logloss: 1.96216\n",
      "[200]\ttraining's multi_logloss: 1.50334\tvalid_1's multi_logloss: 1.9313\n",
      "[300]\ttraining's multi_logloss: 1.35937\tvalid_1's multi_logloss: 1.92867\n",
      "Early stopping, best iteration is:\n",
      "[258]\ttraining's multi_logloss: 1.41471\tvalid_1's multi_logloss: 1.92738\n",
      "fold n°3\n",
      "Training until validation scores don't improve for 100 rounds\n",
      "[100]\ttraining's multi_logloss: 1.71918\tvalid_1's multi_logloss: 1.93128\n",
      "[200]\ttraining's multi_logloss: 1.51548\tvalid_1's multi_logloss: 1.88802\n",
      "[300]\ttraining's multi_logloss: 1.37168\tvalid_1's multi_logloss: 1.88063\n",
      "[400]\ttraining's multi_logloss: 1.26038\tvalid_1's multi_logloss: 1.88509\n",
      "Early stopping, best iteration is:\n",
      "[311]\ttraining's multi_logloss: 1.35812\tvalid_1's multi_logloss: 1.88035\n",
      "fold n°4\n",
      "Training until validation scores don't improve for 100 rounds\n",
      "[100]\ttraining's multi_logloss: 1.71428\tvalid_1's multi_logloss: 1.93557\n",
      "[200]\ttraining's multi_logloss: 1.51082\tvalid_1's multi_logloss: 1.89574\n",
      "[300]\ttraining's multi_logloss: 1.36736\tvalid_1's multi_logloss: 1.88636\n",
      "[400]\ttraining's multi_logloss: 1.25658\tvalid_1's multi_logloss: 1.88958\n",
      "Early stopping, best iteration is:\n",
      "[320]\ttraining's multi_logloss: 1.34309\tvalid_1's multi_logloss: 1.88591\n",
      "fold n°5\n",
      "Training until validation scores don't improve for 100 rounds\n",
      "[100]\ttraining's multi_logloss: 1.6932\tvalid_1's multi_logloss: 1.99383\n",
      "[200]\ttraining's multi_logloss: 1.48076\tvalid_1's multi_logloss: 1.98944\n",
      "Early stopping, best iteration is:\n",
      "[160]\ttraining's multi_logloss: 1.55508\tvalid_1's multi_logloss: 1.98728\n",
      "CPU times: user 1h 17min 5s, sys: 1min 27s, total: 1h 18min 33s\n",
      "Wall time: 9min 49s\n"
     ]
    }
   ],
   "source": "%%time\nparams = {\n          \"objective\" : \"multiclass\",\n          \"num_class\" : 13,\n          \"num_leaves\" : 60,\n          \"max_depth\": -1,\n          \"learning_rate\" : 0.01,\n          \"bagging_fraction\" : 0.9,  # subsample\n          \"feature_fraction\" : 0.9,  # colsample_bytree\n          \"bagging_freq\" : 5,        # subsample_freq\n          \"bagging_seed\" : 2018,\n          \"verbosity\" : -1,\n          'num_threads':8,# 进程数 根据机器资源调整\n}\n\n \n# 五折交叉验证\nfolds = StratifiedKFold(n_splits=5, shuffle=False, random_state=2019)\noof = np.zeros([len(train),13])\npredictions = np.zeros([len(test),13])\n \nfor fold_, (trn_idx, val_idx) in enumerate(folds.split(X_train, y_train)):\n    print(\"fold n°{}\".format(fold_+1))\n    trn_data = lgb.Dataset(X_train[trn_idx], y_train[trn_idx])\n    val_data = lgb.Dataset(X_train[val_idx], y_train[val_idx])\n \n    num_round = 1000\n    clf = lgb.train(params, \n                    trn_data, \n                    num_round, \n                    valid_sets = [trn_data, val_data], \n                    verbose_eval = 100, \n                    early_stopping_rounds = 100)\n    oof[val_idx] = clf.predict(X_train[val_idx], num_iteration=clf.best_iteration)    \n    predictions += clf.predict(X_test, num_iteration=clf.best_iteration) / folds.n_splits\n    #print(predictions)"
  },
  {
   "cell_type": "code",
   "execution_count": 17,
   "metadata": {
    "jupyter": {},
    "tags": [],
    "slideshow": {
     "slide_type": "slide"
    },
    "id": "A117F4CFE99241A0BEF227F0F035E6D0",
    "trusted": true
   },
   "outputs": [],
   "source": "from sklearn.metrics import accuracy_score"
  },
  {
   "cell_type": "code",
   "execution_count": 18,
   "metadata": {
    "jupyter": {},
    "tags": [],
    "slideshow": {
     "slide_type": "slide"
    },
    "id": "72CC1FDF6C1144F2A0B9DB3806CF2FEB",
    "trusted": true
   },
   "outputs": [
    {
     "data": {
      "text/plain": [
       "0.3429333333333333"
      ]
     },
     "execution_count": 18,
     "metadata": {},
     "output_type": "execute_result"
    }
   ],
   "source": "accuracy_score(y_train, np.argmax(oof,axis=1))"
  },
  {
   "cell_type": "markdown",
   "metadata": {
    "jupyter": {},
    "tags": [],
    "slideshow": {
     "slide_type": "slide"
    },
    "id": "CB3B12A1E98F4F9A9C6F01A510B22078",
    "trusted": true
   },
   "source": "## 提交结果"
  },
  {
   "cell_type": "code",
   "execution_count": 20,
   "metadata": {
    "jupyter": {},
    "tags": [],
    "slideshow": {
     "slide_type": "slide"
    },
    "id": "DC35D26833DF4CEC9EAEE6C95D60E47D",
    "trusted": true
   },
   "outputs": [],
   "source": "sub=pd.read_csv('data/submission.csv')\nsub['label']=np.argmax(predictions,axis=1)\nsub['label'].to_csv('result/sub.csv',index=None)"
  },
  {
   "cell_type": "markdown",
   "metadata": {
    "jupyter": {},
    "tags": [],
    "slideshow": {
     "slide_type": "slide"
    },
    "id": "D4FCC15299984F2B80007C15065BD71B",
    "trusted": true
   },
   "source": "## 提升思路\n- 使用一些深度学习模型，例如word2vec+rnn/lstm对于文本进行分类\n- 利用预训练模型进行训练和学习"
  }
 ],
 "metadata": {
  "kernelspec": {
   "language": "python",
   "display_name": "Python 3",
   "name": "python3"
  },
  "language_info": {
   "codemirror_mode": {
    "name": "ipython",
    "version": 3
   },
   "name": "python",
   "mimetype": "text/x-python",
   "nbconvert_exporter": "python",
   "file_extension": ".py",
   "version": "3.5.2",
   "pygments_lexer": "ipython3"
  }
 },
 "nbformat": 4,
 "nbformat_minor": 4
}